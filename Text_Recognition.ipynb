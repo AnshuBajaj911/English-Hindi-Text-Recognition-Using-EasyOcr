{
  "nbformat": 4,
  "nbformat_minor": 0,
  "metadata": {
    "colab": {
      "name": "Text_Recognition.ipynb",
      "provenance": [],
      "collapsed_sections": [],
      "authorship_tag": "ABX9TyPjGr33329mRtbP9xNMVEWR",
      "include_colab_link": true
    },
    "kernelspec": {
      "name": "python3",
      "display_name": "Python 3"
    }
  },
  "cells": [
    {
      "cell_type": "markdown",
      "metadata": {
        "id": "view-in-github",
        "colab_type": "text"
      },
      "source": [
        "<a href=\"https://colab.research.google.com/github/AnshuBajaj911/English-Hindi-Text-Recognition-Using-EasyOcr/blob/master/Text_Recognition.ipynb\" target=\"_parent\"><img src=\"https://colab.research.google.com/assets/colab-badge.svg\" alt=\"Open In Colab\"/></a>"
      ]
    },
    {
      "cell_type": "markdown",
      "metadata": {
        "id": "NX6tB86N4g0n",
        "colab_type": "text"
      },
      "source": [
        "**Installing the EasyOcr Package**"
      ]
    },
    {
      "cell_type": "code",
      "metadata": {
        "id": "BOZAzB-toVbI",
        "colab_type": "code",
        "colab": {
          "base_uri": "https://localhost:8080/",
          "height": 371
        },
        "outputId": "fe72f062-ed3c-4ca6-d06f-7165c1c62fc6"
      },
      "source": [
        "!pip install easyocr"
      ],
      "execution_count": 116,
      "outputs": [
        {
          "output_type": "stream",
          "text": [
            "Requirement already satisfied: easyocr in /usr/local/lib/python3.6/dist-packages (1.1.9)\n",
            "Requirement already satisfied: scikit-image in /usr/local/lib/python3.6/dist-packages (from easyocr) (0.16.2)\n",
            "Requirement already satisfied: torchvision>=0.5 in /usr/local/lib/python3.6/dist-packages (from easyocr) (0.7.0+cu101)\n",
            "Requirement already satisfied: numpy in /usr/local/lib/python3.6/dist-packages (from easyocr) (1.18.5)\n",
            "Requirement already satisfied: scipy in /usr/local/lib/python3.6/dist-packages (from easyocr) (1.4.1)\n",
            "Requirement already satisfied: opencv-python in /usr/local/lib/python3.6/dist-packages (from easyocr) (4.1.2.30)\n",
            "Requirement already satisfied: Pillow in /usr/local/lib/python3.6/dist-packages (from easyocr) (7.0.0)\n",
            "Requirement already satisfied: torch in /usr/local/lib/python3.6/dist-packages (from easyocr) (1.6.0+cu101)\n",
            "Requirement already satisfied: python-bidi in /usr/local/lib/python3.6/dist-packages (from easyocr) (0.4.2)\n",
            "Requirement already satisfied: imageio>=2.3.0 in /usr/local/lib/python3.6/dist-packages (from scikit-image->easyocr) (2.4.1)\n",
            "Requirement already satisfied: PyWavelets>=0.4.0 in /usr/local/lib/python3.6/dist-packages (from scikit-image->easyocr) (1.1.1)\n",
            "Requirement already satisfied: networkx>=2.0 in /usr/local/lib/python3.6/dist-packages (from scikit-image->easyocr) (2.5)\n",
            "Requirement already satisfied: matplotlib!=3.0.0,>=2.0.0 in /usr/local/lib/python3.6/dist-packages (from scikit-image->easyocr) (3.2.2)\n",
            "Requirement already satisfied: future in /usr/local/lib/python3.6/dist-packages (from torch->easyocr) (0.16.0)\n",
            "Requirement already satisfied: six in /usr/local/lib/python3.6/dist-packages (from python-bidi->easyocr) (1.15.0)\n",
            "Requirement already satisfied: decorator>=4.3.0 in /usr/local/lib/python3.6/dist-packages (from networkx>=2.0->scikit-image->easyocr) (4.4.2)\n",
            "Requirement already satisfied: kiwisolver>=1.0.1 in /usr/local/lib/python3.6/dist-packages (from matplotlib!=3.0.0,>=2.0.0->scikit-image->easyocr) (1.2.0)\n",
            "Requirement already satisfied: pyparsing!=2.0.4,!=2.1.2,!=2.1.6,>=2.0.1 in /usr/local/lib/python3.6/dist-packages (from matplotlib!=3.0.0,>=2.0.0->scikit-image->easyocr) (2.4.7)\n",
            "Requirement already satisfied: python-dateutil>=2.1 in /usr/local/lib/python3.6/dist-packages (from matplotlib!=3.0.0,>=2.0.0->scikit-image->easyocr) (2.8.1)\n",
            "Requirement already satisfied: cycler>=0.10 in /usr/local/lib/python3.6/dist-packages (from matplotlib!=3.0.0,>=2.0.0->scikit-image->easyocr) (0.10.0)\n"
          ],
          "name": "stdout"
        }
      ]
    },
    {
      "cell_type": "code",
      "metadata": {
        "id": "IUc45rbRoYrc",
        "colab_type": "code",
        "colab": {}
      },
      "source": [
        "import easyocr\n",
        "from IPython.display import Image"
      ],
      "execution_count": 117,
      "outputs": []
    },
    {
      "cell_type": "markdown",
      "metadata": {
        "id": "gxwgGEfl4n_W",
        "colab_type": "text"
      },
      "source": [
        "Creating Reader Object Trained for **Predicting Text in English and Hindi**"
      ]
    },
    {
      "cell_type": "code",
      "metadata": {
        "id": "QENzHaayopJp",
        "colab_type": "code",
        "colab": {
          "base_uri": "https://localhost:8080/",
          "height": 33
        },
        "outputId": "3e75ee2d-b7b6-4c0c-ef98-472673dd49ee"
      },
      "source": [
        "reader = easyocr.Reader(['en','hi'])"
      ],
      "execution_count": 118,
      "outputs": [
        {
          "output_type": "stream",
          "text": [
            "CUDA not available - defaulting to CPU. Note: This module is much faster with a GPU.\n"
          ],
          "name": "stderr"
        }
      ]
    },
    {
      "cell_type": "markdown",
      "metadata": {
        "id": "eWY9iwOX4q2K",
        "colab_type": "text"
      },
      "source": [
        "Providing the **Name of the Image**"
      ]
    },
    {
      "cell_type": "code",
      "metadata": {
        "id": "00Fq0rJqpn7R",
        "colab_type": "code",
        "colab": {
          "base_uri": "https://localhost:8080/",
          "height": 208
        },
        "outputId": "966120a6-9b29-4852-8e9c-8d9cfaf42cb6"
      },
      "source": [
        "imgname = 'desert-3.jpg'\n",
        "i = Image(imgname)\n",
        "i"
      ],
      "execution_count": 156,
      "outputs": [
        {
          "output_type": "execute_result",
          "data": {
            "image/jpeg": "[encoded data removed]",
            "text/plain": [
              "<IPython.core.display.Image object>"
            ]
          },
          "metadata": {
            "tags": []
          },
          "execution_count": 156
        }
      ]
    },
    {
      "cell_type": "markdown",
      "metadata": {
        "id": "QO_k1t-M4xeb",
        "colab_type": "text"
      },
      "source": [
        "**Predicting the text in the Specified Image**"
      ]
    },
    {
      "cell_type": "code",
      "metadata": {
        "id": "rzSPYrtIorVS",
        "colab_type": "code",
        "colab": {}
      },
      "source": [
        "output = reader.readtext(imgname)"
      ],
      "execution_count": 157,
      "outputs": []
    },
    {
      "cell_type": "code",
      "metadata": {
        "id": "BUE72Go0pPF8",
        "colab_type": "code",
        "colab": {
          "base_uri": "https://localhost:8080/",
          "height": 134
        },
        "outputId": "4d1811d5-f758-41a8-d0a1-288feba92db4"
      },
      "source": [
        "output"
      ],
      "execution_count": 158,
      "outputs": [
        {
          "output_type": "execute_result",
          "data": {
            "text/plain": [
              "[([[21, 35], [97, 35], [97, 53], [21, 53]], 'Password', 0.8260490298271179),\n",
              " ([[36, 84], [78, 84], [78, 92], [36, 92]],\n",
              "  '\"1\"**1\"11',\n",
              "  4.8993765489058205e-08),\n",
              " ([[21, 157], [109, 157], [109, 175], [21, 175]],\n",
              "  'Easy peasy',\n",
              "  0.10292446613311768)]"
            ]
          },
          "metadata": {
            "tags": []
          },
          "execution_count": 158
        }
      ]
    },
    {
      "cell_type": "markdown",
      "metadata": {
        "id": "lu7qNEAv44y4",
        "colab_type": "text"
      },
      "source": [
        "**Converting output to Numpy Array**"
      ]
    },
    {
      "cell_type": "code",
      "metadata": {
        "id": "T1w25xQcu-Hu",
        "colab_type": "code",
        "colab": {
          "base_uri": "https://localhost:8080/",
          "height": 67
        },
        "outputId": "0512f5de-30e5-42af-988d-c5e1943f4052"
      },
      "source": [
        "string = \"\"\n",
        "import numpy as np\n",
        "a =np.array(output)\n",
        "for ele in a:\n",
        "  for e in ele:\n",
        "    if(type(e) == str):\n",
        "      print(e)\n",
        "      string = string+e+\"\\n\""
      ],
      "execution_count": 159,
      "outputs": [
        {
          "output_type": "stream",
          "text": [
            "Password\n",
            "\"1\"**1\"11\n",
            "Easy peasy\n"
          ],
          "name": "stdout"
        }
      ]
    },
    {
      "cell_type": "markdown",
      "metadata": {
        "id": "rAu8g25l4-h-",
        "colab_type": "text"
      },
      "source": [
        "**Appending the Predicted Text to File** ***Predicted_text.txt*** \n",
        "\n",
        "\n"
      ]
    },
    {
      "cell_type": "code",
      "metadata": {
        "id": "JouVcsAMtJnl",
        "colab_type": "code",
        "colab": {}
      },
      "source": [
        "with open('/content/Predicted_text.txt', 'a') as writefile:\n",
        "    writefile.write(\"Name of Image : \"+imgname+\"\\n\\n\")\n",
        "    writefile.write(string+\"\\n\\n\\n\")\n",
        "    "
      ],
      "execution_count": 160,
      "outputs": []
    },
    {
      "cell_type": "markdown",
      "metadata": {
        "id": "ix_YvYP15H29",
        "colab_type": "text"
      },
      "source": [
        "**Displaying Contents of Text File**"
      ]
    },
    {
      "cell_type": "code",
      "metadata": {
        "id": "4-noJ41c27FQ",
        "colab_type": "code",
        "colab": {
          "base_uri": "https://localhost:8080/",
          "height": 820
        },
        "outputId": "2d2e122d-d75f-46f2-c0dd-a71cf8837697"
      },
      "source": [
        "with open('/content/Predicted_text.txt', 'r') as testwritefile:\n",
        "    print(testwritefile.read())"
      ],
      "execution_count": 161,
      "outputs": [
        {
          "output_type": "stream",
          "text": [
            "Name of Image : 1.jpg\n",
            "\n",
            "((\n",
            "If you want\n",
            "fly,\n",
            "give up\n",
            "to\n",
            "up everything\n",
            "that weighs\n",
            "down.\n",
            "you\n",
            "Gurubogsa\n",
            ")\n",
            "\n",
            "\n",
            "\n",
            "Name of Image : 2.jpg\n",
            "\n",
            "The successful warrior\n",
            "is the average man\n",
            "with laserlike focus\n",
            "+[L L [\n",
            "\n",
            "\n",
            "\n",
            "Name of Image : 3.jpg\n",
            "\n",
            "Hnshu Baja ]\n",
            "\n",
            "\n",
            "\n",
            "Name of Image : 4.png\n",
            "\n",
            "अच्छा हे की रिश्तो का कच्रिस्तान नहीं होता\n",
            "चरना जमान कम पड़ जाता|\n",
            "Uats Il\n",
            "\n",
            "\n",
            "\n",
            "Name of Image : desert-3.jpg\n",
            "\n",
            "Password\n",
            "\"1\"**1\"11\n",
            "Easy peasy\n",
            "\n",
            "\n",
            "\n",
            "\n"
          ],
          "name": "stdout"
        }
      ]
    }
  ]
}